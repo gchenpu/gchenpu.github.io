{
 "cells": [
  {
   "cell_type": "markdown",
   "metadata": {},
   "source": [
    "# Publications markdown generator\n",
    "\n",
    "Takes a list of publications in .bib format and converts them for use with Jupyter notebook `publication.ipynb`. Run it from the `markdown_generator` folder after replacing `publications.bib` with one containing your data.  Journal entries will be saved in the folder `./_publications`\n",
    "\n",
    "Note: need to install the `pybtex` package to parse the .bib file\n",
    "```\n",
    "pip install pybtex\n",
    "```"
   ]
  },
  {
   "cell_type": "markdown",
   "metadata": {},
   "source": [
    "## View the .bib file\n",
    "Read the .bib file, and create a Pandas' `DataFrame` file to view the entries"
   ]
  },
  {
   "cell_type": "code",
   "execution_count": 5,
   "metadata": {},
   "outputs": [
    {
     "data": {
      "text/html": [
       "<div>\n",
       "<style scoped>\n",
       "    .dataframe tbody tr th:only-of-type {\n",
       "        vertical-align: middle;\n",
       "    }\n",
       "\n",
       "    .dataframe tbody tr th {\n",
       "        vertical-align: top;\n",
       "    }\n",
       "\n",
       "    .dataframe thead th {\n",
       "        text-align: right;\n",
       "    }\n",
       "</style>\n",
       "<table border=\"1\" class=\"dataframe\">\n",
       "  <thead>\n",
       "    <tr style=\"text-align: right;\">\n",
       "      <th></th>\n",
       "      <th>entry</th>\n",
       "      <th>year</th>\n",
       "      <th>journal</th>\n",
       "      <th>title</th>\n",
       "    </tr>\n",
       "  </thead>\n",
       "  <tbody>\n",
       "    <tr>\n",
       "      <th>0</th>\n",
       "      <td>Ding2025</td>\n",
       "      <td>2025</td>\n",
       "      <td>Science Advances</td>\n",
       "      <td>Demystifying the drivers of the spring warming...</td>\n",
       "    </tr>\n",
       "    <tr>\n",
       "      <th>3</th>\n",
       "      <td>Chen2025</td>\n",
       "      <td>2025</td>\n",
       "      <td>Journal of Climate</td>\n",
       "      <td>Effective Time Scale of the Northern Hemispher...</td>\n",
       "    </tr>\n",
       "    <tr>\n",
       "      <th>1</th>\n",
       "      <td>Ge2025b</td>\n",
       "      <td>2025</td>\n",
       "      <td>Journal of Advances in Modeling Earth Systems</td>\n",
       "      <td>Moist Energy Constraints on Surface Temperatur...</td>\n",
       "    </tr>\n",
       "    <tr>\n",
       "      <th>2</th>\n",
       "      <td>Ge2025a</td>\n",
       "      <td>2025</td>\n",
       "      <td>Environmental Pollution</td>\n",
       "      <td>The short-term comprehensive impact of the pha...</td>\n",
       "    </tr>\n",
       "    <tr>\n",
       "      <th>5</th>\n",
       "      <td>Ding2024</td>\n",
       "      <td>2024</td>\n",
       "      <td>Environmental Research: Climate</td>\n",
       "      <td>North American cooling signature of strong str...</td>\n",
       "    </tr>\n",
       "    <tr>\n",
       "      <th>...</th>\n",
       "      <td>...</td>\n",
       "      <td>...</td>\n",
       "      <td>...</td>\n",
       "      <td>...</td>\n",
       "    </tr>\n",
       "    <tr>\n",
       "      <th>62</th>\n",
       "      <td>Chen2008b</td>\n",
       "      <td>2008</td>\n",
       "      <td>Journal of the Atmospheric Sciences</td>\n",
       "      <td>The Tropospheric Jet Response to Prescribed Zo...</td>\n",
       "    </tr>\n",
       "    <tr>\n",
       "      <th>61</th>\n",
       "      <td>Chen2008</td>\n",
       "      <td>2008</td>\n",
       "      <td>Journal of Climate</td>\n",
       "      <td>Phase Speed Spectra and the Latitude of Surfac...</td>\n",
       "    </tr>\n",
       "    <tr>\n",
       "      <th>63</th>\n",
       "      <td>Chen2007a</td>\n",
       "      <td>2007</td>\n",
       "      <td>Journal of the Atmospheric Sciences</td>\n",
       "      <td>Sensitivity of the Latitude of the Surface Wes...</td>\n",
       "    </tr>\n",
       "    <tr>\n",
       "      <th>95</th>\n",
       "      <td>Chen2007b</td>\n",
       "      <td>2007</td>\n",
       "      <td>Geophysical Research Letters</td>\n",
       "      <td>Phase speed spectra and the recent poleward sh...</td>\n",
       "    </tr>\n",
       "    <tr>\n",
       "      <th>59</th>\n",
       "      <td>Frierson2007b</td>\n",
       "      <td>2007</td>\n",
       "      <td>Geophysical Research Letters</td>\n",
       "      <td>Width of the Hadley cell in simple and compreh...</td>\n",
       "    </tr>\n",
       "  </tbody>\n",
       "</table>\n",
       "<p>97 rows × 4 columns</p>\n",
       "</div>"
      ],
      "text/plain": [
       "            entry  year                                        journal  \\\n",
       "0        Ding2025  2025                               Science Advances   \n",
       "3        Chen2025  2025                             Journal of Climate   \n",
       "1         Ge2025b  2025  Journal of Advances in Modeling Earth Systems   \n",
       "2         Ge2025a  2025                        Environmental Pollution   \n",
       "5        Ding2024  2024                Environmental Research: Climate   \n",
       "..            ...   ...                                            ...   \n",
       "62      Chen2008b  2008            Journal of the Atmospheric Sciences   \n",
       "61       Chen2008  2008                             Journal of Climate   \n",
       "63      Chen2007a  2007            Journal of the Atmospheric Sciences   \n",
       "95      Chen2007b  2007                   Geophysical Research Letters   \n",
       "59  Frierson2007b  2007                   Geophysical Research Letters   \n",
       "\n",
       "                                                title  \n",
       "0   Demystifying the drivers of the spring warming...  \n",
       "3   Effective Time Scale of the Northern Hemispher...  \n",
       "1   Moist Energy Constraints on Surface Temperatur...  \n",
       "2   The short-term comprehensive impact of the pha...  \n",
       "5   North American cooling signature of strong str...  \n",
       "..                                                ...  \n",
       "62  The Tropospheric Jet Response to Prescribed Zo...  \n",
       "61  Phase Speed Spectra and the Latitude of Surfac...  \n",
       "63  Sensitivity of the Latitude of the Surface Wes...  \n",
       "95  Phase speed spectra and the recent poleward sh...  \n",
       "59  Width of the Hadley cell in simple and compreh...  \n",
       "\n",
       "[97 rows x 4 columns]"
      ]
     },
     "execution_count": 5,
     "metadata": {},
     "output_type": "execute_result"
    }
   ],
   "source": [
    "import os\n",
    "import calendar\n",
    "from datetime import datetime\n",
    "from pybtex.database import parse_file\n",
    "import pandas as pd\n",
    "\n",
    "bib_data = parse_file('publications.bib')\n",
    "#print(bib_data)\n",
    "\n",
    "# view the data in Pandas' DataFrame\n",
    "df = pd.DataFrame(columns = ['entry', 'year', 'journal', 'title'])\n",
    "for entry in bib_data.entries:\n",
    "    f = bib_data.entries[entry].fields\n",
    "    # df = df.append({'entry' : entry, 'year' : f['year'], 'journal': f['journal'],\n",
    "                            # 'title': f['title'][1:-1]}, ignore_index = True) \n",
    "    df = pd.concat([df, pd.DataFrame([{\n",
    "        'entry': entry,\n",
    "        'year': f['year'],\n",
    "        'journal': f['journal'],\n",
    "        'title': f['title'][1:-1]\n",
    "        }])], ignore_index=True)\n",
    "df_sort = df.sort_values(by=['year'], ascending=False)\n",
    "#df_sort.to_csv('pub.csv', index=False)\n",
    "df_sort"
   ]
  },
  {
   "cell_type": "markdown",
   "metadata": {},
   "source": [
    "## Functions\n",
    "Defining the functions to get the information about filenames, authors, and journals"
   ]
  },
  {
   "cell_type": "markdown",
   "metadata": {},
   "source": [
    "### Escape special characters\n",
    "\n",
    "YAML is very picky about how it takes a valid string, so we are replacing single and double quotes (and ampersands) with their HTML encoded equivilents. This makes them look not so readable in raw format, but they are parsed and rendered nicely."
   ]
  },
  {
   "cell_type": "code",
   "execution_count": 6,
   "metadata": {},
   "outputs": [],
   "source": [
    "html_escape_table = {\n",
    "    \"&\": \"&amp;\",\n",
    "    '\"': \"&quot;\",\n",
    "    \"'\": \"&apos;\"\n",
    "    }\n",
    "\n",
    "def html_escape(text):\n",
    "    \"\"\"Produce entities within text.\"\"\"\n",
    "    return \"\".join(html_escape_table.get(c,c) for c in text)"
   ]
  },
  {
   "cell_type": "markdown",
   "metadata": {},
   "source": [
    "### get_filnames()"
   ]
  },
  {
   "cell_type": "code",
   "execution_count": 7,
   "metadata": {},
   "outputs": [],
   "source": [
    "def get_filenames(entry):\n",
    "    year  = bib_data.entries[entry].fields['year']\n",
    "    if 'month' in bib_data.entries[entry].fields:\n",
    "        month = list(calendar.month_abbr).index(bib_data.entries[entry].fields['month'].capitalize())\n",
    "    else:\n",
    "        print('no month information is found for ' + entry)\n",
    "        month = datetime.now().month                # use current month if no month information is found\n",
    "        print('use the current month: ' + str(month))\n",
    "    pub_date = str(year) + \"-\" + str(month) + \"-\" + \"1\"\n",
    "    \n",
    "    md_filename   = pub_date + \"-\" + entry + \".md\"\n",
    "    html_filename = pub_date + \"-\" + entry\n",
    "    #print(md_filename)\n",
    "    \n",
    "    return year, month, md_filename, html_filename\n",
    "\n",
    "#get_filenames('Guan2021')"
   ]
  },
  {
   "cell_type": "markdown",
   "metadata": {},
   "source": [
    "### get_author()"
   ]
  },
  {
   "cell_type": "code",
   "execution_count": 8,
   "metadata": {},
   "outputs": [],
   "source": [
    "def get_author(entry):\n",
    "    num_author = len(bib_data.entries[entry].persons['author'])\n",
    "    for count, author in enumerate(bib_data.entries[entry].persons['author']):\n",
    "        if count == 0:\n",
    "            author_list = author.last_names[0] + \", \"\n",
    "            for cc, first in enumerate(author.bibtex_first_names):\n",
    "                if cc <len(author.bibtex_first_names)-1:\n",
    "                    author_list += first + \" \"\n",
    "                else:\n",
    "                    author_list += first\n",
    "        elif count < num_author-1:\n",
    "            author_list += \", \" \n",
    "            for cc, first in enumerate(author.bibtex_first_names):\n",
    "                if cc <len(author.bibtex_first_names)-1:\n",
    "                    author_list += first + \" \"\n",
    "                else:\n",
    "                    author_list += first\n",
    "            author_list += \" \" + author.last_names[0]\n",
    "        else:\n",
    "            author_list += \" and \" \n",
    "            for cc, first in enumerate(author.bibtex_first_names):\n",
    "                if cc <len(author.bibtex_first_names)-1:\n",
    "                    author_list += first + \" \"\n",
    "                else:\n",
    "                    author_list += first\n",
    "            author_list += \" \" + author.last_names[0]\n",
    "        author_list = author_list.replace(\"{\",\"\")\n",
    "        author_list = author_list.replace(\"}\",\"\")\n",
    "    #print(author_list)\n",
    "    \n",
    "    return author_list\n",
    "\n",
    "#get_author('Guan2021')"
   ]
  },
  {
   "cell_type": "markdown",
   "metadata": {},
   "source": [
    "### get_journal()"
   ]
  },
  {
   "cell_type": "code",
   "execution_count": 9,
   "metadata": {},
   "outputs": [],
   "source": [
    "def get_journal(entry):\n",
    "    journal = bib_data.entries[entry].fields['journal']\n",
    "    cit_journal = \"<i>\" + journal + \"</i>\"\n",
    "    if 'volume' in bib_data.entries[entry].fields:\n",
    "        cit_journal += \", \" + bib_data.entries[entry].fields['volume']\n",
    "    if 'pages' in bib_data.entries[entry].fields:\n",
    "        cit_journal += \", \" + bib_data.entries[entry].fields['pages']\n",
    "    if 'doi' in bib_data.entries[entry].fields:\n",
    "        cit_journal +=  \", doi:\" + bib_data.entries[entry].fields['doi']\n",
    "    cit_journal += \".\"\n",
    "#    print(cit_journal)\n",
    "    \n",
    "    title    = html_escape(bib_data.entries[entry].fields['title'][1:-1])\n",
    "    paper_url = bib_data.entries[entry].fields['url']\n",
    "    \n",
    "    if 'abstract' in bib_data.entries[entry].fields: \n",
    "        excerpt = bib_data.entries[entry].fields['abstract']\n",
    "    else: \n",
    "        excerpt = \"\"\n",
    "\n",
    "    return journal, cit_journal, title, paper_url, excerpt\n",
    "\n",
    "#get_journal('Guan2021')"
   ]
  },
  {
   "cell_type": "markdown",
   "metadata": {},
   "source": [
    "## Generate `.md` entries from the `.bib` file\n",
    "Two types of output\n",
    "* if the `.md` entry does not exist, then create a new entry\n",
    "* if the `.md` entry exists but is different from the one from `.bib`, then create a new entry with `.new`"
   ]
  },
  {
   "cell_type": "code",
   "execution_count": 10,
   "metadata": {
    "scrolled": false
   },
   "outputs": [
    {
     "name": "stdout",
     "output_type": "stream",
     "text": [
      "#0, Ding2025: write new entry!\n",
      "#1, Ge2025b: write new entry!\n",
      "#2, Ge2025a: write new entry!\n",
      "#3, Chen2025: write new entry!\n",
      "#8, Ma2024a: found differences\n",
      "#9, Ma2023a: found differences\n",
      "#12, Ding2023: found differences\n",
      "#15, Zhang2023: found differences\n",
      "#16, Jiang2022: found differences\n",
      "#19, Ding2022: found differences\n",
      "#25, Ma2021: found differences\n",
      "Total number of entries: 97\n"
     ]
    }
   ],
   "source": [
    "for i_entry, entry in enumerate(bib_data.entries):\n",
    "# create the name of each md file\n",
    "    year, month, md_filename, html_filename = get_filenames(entry)\n",
    "\n",
    "# set up author names\n",
    "    author_list = get_author(entry)\n",
    "\n",
    "# set up the citation for the publishing journal\n",
    "    journal, cit_journal, title, paper_url, excerpt = get_journal(entry)\n",
    "\n",
    "    citation = html_escape(author_list + \", \" + str(year) + \": \" + title + \", \" + cit_journal)\n",
    "        \n",
    "## YAML variables\n",
    "    \n",
    "    md = \"---\\ntitle: \\\"\" + title + '\"\\n'\n",
    "    \n",
    "    md += \"\"\"collection: publications\"\"\"\n",
    "    \n",
    "    md += \"\"\"\\npermalink: /publication/\"\"\" + html_filename\n",
    "\n",
    "    md += \"\\nyear: \" + str(year) \n",
    "\n",
    "    md += \"\\nauthor: \" + str(author_list) \n",
    "\n",
    "    md += \"\\nvenue: '\" + journal + \"'\"\n",
    "    \n",
    "    md += \"\\nvenue_cit: '\" + cit_journal + \"'\"\n",
    "    \n",
    "#    md += \"\\npaperurl: '\" + paper_url + \"'\"\n",
    "    \n",
    "    md += \"\\ncitation: '\" + citation + \"'\"\n",
    "    \n",
    "    md += \"\\n---\"\n",
    "    \n",
    "## Markdown description for individual page\n",
    "    excerpt = excerpt.replace(\"Abstract\", \"ABSTRACT:\\n\")\n",
    "    if len(str(excerpt)) > 5:\n",
    "        md += \"\\n\" + html_escape(excerpt) + \"\\n\"\n",
    "    \n",
    "    if len(str(paper_url)) > 5:\n",
    "#        md += \"\\nDownload paper: [here](\" + download_filename + \") and [journal website](\" + paper_url + \")\\n\" \n",
    "         md += \"\\nDownload paper: [journal website](\" + paper_url + \")\\n\"        \n",
    "    md_filename = os.path.basename(md_filename)\n",
    "\n",
    "## Output information\n",
    "    if not os.path.exists(\"../_publications/\" + md_filename):\n",
    "        print(\"#\" + str(i_entry)  + \", \" + entry + \": write new entry!\")\n",
    "        with open(\"../_publications/\" + md_filename, 'w') as f:\n",
    "            f.write(md)\n",
    "    else:\n",
    "        with open(\"../_publications/\" + md_filename, 'r') as f:\n",
    "            md_exist = f.read()\n",
    "            if (md != md_exist):\n",
    "                print(\"#\" + str(i_entry) + \", \" + entry + \": found differences\")\n",
    "                # rewrite the old file is needed\n",
    "                # print(\"#\" + str(i_entry) + \", \" + entry + \": found differences and created new entry!\")\n",
    "                # with open(\"../_publications/\" + md_filename + \".new\", 'w') as f:\n",
    "                #     f.write(md)\n",
    "                # os.system(\"diff \" + \"../_publications/\" + md_filename + \".new \"\n",
    "                #                   + \"../_publications/\" + md_filename)\n",
    "        \n",
    "    #print(md)\n",
    "\n",
    "print('Total number of entries: ' + str(i_entry+1))\n",
    "    "
   ]
  },
  {
   "cell_type": "markdown",
   "metadata": {},
   "source": [
    "## Overide the entries with differences"
   ]
  },
  {
   "cell_type": "code",
   "execution_count": null,
   "metadata": {},
   "outputs": [],
   "source": [
    "# updating the entries\n",
    "files = os.listdir(\"../_publications\")\n",
    "for file in files:\n",
    "    if(file.endswith('.new')):\n",
    "        print(\"replacing \" + file[:-4])\n",
    "        os.system(\"mv ../_publications/\" + file + \" ../_publications/\"+ file[:-4])"
   ]
  },
  {
   "cell_type": "markdown",
   "metadata": {},
   "source": [
    "## Other entries\n",
    "copy other entries manually to the folders ./files and ./publications"
   ]
  },
  {
   "cell_type": "code",
   "execution_count": null,
   "metadata": {},
   "outputs": [],
   "source": [
    "if not os.path.exists(\"../_publications/2007-7-1-Chen2007.md\"):\n",
    "    os.system(\"cp thesis.pdf ../files\")\n",
    "    os.system(\"cp 2007-7-1-Chen2007.md ../_publications\")"
   ]
  }
 ],
 "metadata": {
  "kernelspec": {
   "display_name": "base",
   "language": "python",
   "name": "python3"
  },
  "language_info": {
   "codemirror_mode": {
    "name": "ipython",
    "version": 3
   },
   "file_extension": ".py",
   "mimetype": "text/x-python",
   "name": "python",
   "nbconvert_exporter": "python",
   "pygments_lexer": "ipython3",
   "version": "3.9.21"
  },
  "vscode": {
   "interpreter": {
    "hash": "b54da1e1ef63854c7b388e02da8908855ca25e56b87686586bde93fbe536b9a7"
   }
  }
 },
 "nbformat": 4,
 "nbformat_minor": 2
}
